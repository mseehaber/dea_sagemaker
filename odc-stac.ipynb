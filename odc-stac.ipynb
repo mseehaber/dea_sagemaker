{
 "cells": [
  {
   "cell_type": "code",
   "execution_count": null,
   "id": "f6dea58a-e326-48f4-a082-4fe64d803187",
   "metadata": {},
   "outputs": [],
   "source": [
    "! pip install pystac-client sat-search "
   ]
  },
  {
   "cell_type": "code",
   "execution_count": null,
   "id": "343be4a2-052d-404c-9bac-8526f7e486f8",
   "metadata": {},
   "outputs": [],
   "source": [
    "! pip install odc.stac"
   ]
  },
  {
   "cell_type": "code",
   "execution_count": null,
   "id": "3bf2c230-b754-4947-a2be-2d7df1964cb7",
   "metadata": {},
   "outputs": [],
   "source": [
    "# import required packages\n",
    "from pystac_client import Client\n",
    "from odc.stac import stac_load, configure_rio"
   ]
  },
  {
   "cell_type": "code",
   "execution_count": null,
   "id": "6f5b4e74-8e14-4114-8e71-03cddadcd4f0",
   "metadata": {},
   "outputs": [],
   "source": [
    "# set the collection configuration, setting the products definition \n",
    "config = {\n",
    "    \"s2_l2a\": {\n",
    "        \"assets\": {\n",
    "            \"*\": {\n",
    "                \"data_type\": \"uint16\",\n",
    "                \"nodata\": 0,\n",
    "                \"unit\": \"1\",\n",
    "            },\n",
    "            \"SCL\": {\n",
    "                \"data_type\": \"uint8\",\n",
    "                \"nodata\": 0,\n",
    "                \"unit\": \"1\",\n",
    "            },\n",
    "        },\n",
    "        \"aliases\": {\n",
    "            \"costal_aerosol\": \"B01\",\n",
    "            \"blue\": \"B02\",\n",
    "            \"green\": \"B03\",\n",
    "            \"red\": \"B04\",\n",
    "            \"red_edge_1\": \"B05\",\n",
    "            \"red_edge_2\": \"B06\",\n",
    "            \"red_edge_3\": \"B07\",\n",
    "            \"nir\": \"B08\",\n",
    "            \"nir_narrow\": \"B08A\",\n",
    "            \"water_vapour\": \"B09\",\n",
    "            \"swir_1\": \"B11\",\n",
    "            \"swir_2\": \"B12\",\n",
    "            \"mask\": \"SCL\",\n",
    "            \"aerosol_optical_thickness\": \"AOT\",\n",
    "            \"scene_average_water_vapour\": \"WVP\",\n",
    "        },\n",
    "    }\n",
    "}"
   ]
  },
  {
   "cell_type": "code",
   "execution_count": null,
   "id": "06be8b08-264d-4a90-886b-8515e34a02fe",
   "metadata": {},
   "outputs": [],
   "source": [
    "# \n",
    "configure_rio(\n",
    "    cloud_defaults=True,\n",
    "    aws={\"aws_unsigned\": True},\n",
    "    AWS_S3_ENDPOINT=\"s3.af-south-1.amazonaws.com\",\n",
    ")\n"
   ]
  },
  {
   "cell_type": "code",
   "execution_count": null,
   "id": "59ffc49a-b8fc-428b-8f3d-0a5c97faaf41",
   "metadata": {},
   "outputs": [],
   "source": [
    "# Open the stac catalogue\n",
    "catalog = Client.open(\"https://explorer.digitalearth.africa/stac\")\n",
    "catalog"
   ]
  },
  {
   "cell_type": "code",
   "execution_count": null,
   "id": "81803165-c45d-47db-868d-385dd21c94b9",
   "metadata": {},
   "outputs": [],
   "source": [
    "# Set a bounding box\n",
    "# [xmin, ymin, xmax, ymax] in latitude and longitude\n",
    "bbox = [37.76, 12.49, 37.77, 12.50]\n",
    "\n",
    "# Set a start and end date\n",
    "start_date = \"2020-09-01\"\n",
    "end_date = \"2020-12-01\"\n",
    "\n",
    "# Set the STAC collections\n",
    "collections = [\"s2_l2a\"]"
   ]
  },
  {
   "cell_type": "code",
   "execution_count": null,
   "id": "79d06b5b-a875-4148-bcb4-3142c38b4d0c",
   "metadata": {},
   "outputs": [],
   "source": [
    "# Build a query with the set parameters\n",
    "query = catalog.search(\n",
    "    bbox=bbox, collections=collections, datetime=f\"{start_date}/{end_date}\"\n",
    ")\n",
    "\n",
    "# Search the STAC catalog for all items matching the query\n",
    "items = list(query.get_items())\n",
    "print(f\"Found: {len(items):d} datasets\")\n",
    "print(items)"
   ]
  },
  {
   "cell_type": "code",
   "execution_count": null,
   "id": "33c37748-94d6-40d1-b7ff-1a3608844a7e",
   "metadata": {},
   "outputs": [],
   "source": [
    "crs = \"EPSG:6933\"\n",
    "resolution = 20\n",
    "\n",
    "ds = stac_load(\n",
    "    items,\n",
    "    bands=(\"red\", \"green\", \"blue\", \"nir\"),\n",
    "    crs=crs,\n",
    "    resolution=resolution,\n",
    "    chunks={},\n",
    "    groupby=\"solar_day\",\n",
    "    stac_cfg=config,\n",
    "    bbox=bbox,\n",
    ")\n",
    "\n",
    "# View the Xarray Dataset\n",
    "ds"
   ]
  },
  {
   "cell_type": "code",
   "execution_count": null,
   "id": "1f932553-4e3b-4c02-951c-eede9c673ef9",
   "metadata": {},
   "outputs": [],
   "source": [
    "ds[\"NDVI\"] = (ds.nir - ds.red) / (ds.nir + ds.red)\n",
    "\n",
    "\n",
    "ds.NDVI.compute().plot(col=\"time\", col_wrap=6, vmin=0, vmax=1)"
   ]
  },
  {
   "cell_type": "code",
   "execution_count": null,
   "id": "fe1c17f9-309a-4d83-80cf-30455350dae0",
   "metadata": {},
   "outputs": [],
   "source": [
    "! pip install --extra-index-url=\"https://packages.dea.ga.gov.au\" git+https://github.com/digitalearthafrica/deafrica-sandbox-notebooks.git#subdirectory=Tools"
   ]
  }
 ],
 "metadata": {
  "kernelspec": {
   "display_name": "ASDI-SMSL-DEMO-DELTA:Python",
   "language": "python",
   "name": "conda-env-ASDI-SMSL-DEMO-DELTA-py"
  },
  "language_info": {
   "codemirror_mode": {
    "name": "ipython",
    "version": 3
   },
   "file_extension": ".py",
   "mimetype": "text/x-python",
   "name": "python",
   "nbconvert_exporter": "python",
   "pygments_lexer": "ipython3",
   "version": "3.9.13"
  }
 },
 "nbformat": 4,
 "nbformat_minor": 5
}
